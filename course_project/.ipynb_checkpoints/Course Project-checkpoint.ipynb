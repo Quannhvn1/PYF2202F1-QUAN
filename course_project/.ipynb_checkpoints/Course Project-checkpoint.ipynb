{
 "cells": [
  {
   "cell_type": "code",
   "execution_count": null,
   "id": "751f0695",
   "metadata": {},
   "outputs": [],
   "source": [
    "from tkinter import *\n",
    "from tkinter import messagebox\n",
    "from tkinter import canva\n",
    "\n",
    "windows = Tk()\n",
    "windows.title(\"Tasks Management System\")\n",
    "windows.geometry(\"800x600\")\n",
    "\n",
    "task_name_lbl(windows, text =\"Task name\")\n",
    "task_ID_lbl(windows, text = \"Task ID\")\n",
    "description_lbl(windows, text = \"Description\")\n",
    "\n",
    "\n",
    "\n",
    "\n",
    "\n",
    "\n",
    "\n",
    "\n",
    "\n",
    "\n",
    "\n",
    "\n",
    "windows.mainloop()"
   ]
  }
 ],
 "metadata": {
  "kernelspec": {
   "display_name": "Python 3 (ipykernel)",
   "language": "python",
   "name": "python3"
  },
  "language_info": {
   "codemirror_mode": {
    "name": "ipython",
    "version": 3
   },
   "file_extension": ".py",
   "mimetype": "text/x-python",
   "name": "python",
   "nbconvert_exporter": "python",
   "pygments_lexer": "ipython3",
   "version": "3.10.2"
  }
 },
 "nbformat": 4,
 "nbformat_minor": 5
}
