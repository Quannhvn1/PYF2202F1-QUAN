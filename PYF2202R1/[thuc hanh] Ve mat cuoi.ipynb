{
 "cells": [
  {
   "cell_type": "code",
   "execution_count": 54,
   "id": "4e03498a",
   "metadata": {},
   "outputs": [],
   "source": [
    "#thuc hanh : Ve mat cuoi\n",
    "import turtle\n",
    "pen = turtle.Turtle()\n",
    "# pensize\n",
    "pen.pensize(5)\n",
    "pen.shape('circle')\n",
    "pen.pencolor('#a83232')\n",
    "pen.fillcolor('#a83232')\n",
    "\n",
    "\n",
    "pen.penup()\n",
    "pen.goto(0, -200)\n",
    "    \n",
    "face_size = 200\n",
    "pen.pendown()\n",
    "pen.circle(face_size)\n",
    "    \n",
    "eye_size = 20\n",
    "pen.penup()\n",
    "pen.goto(-50,100)\n",
    "pen.pendown()\n",
    "pen.begin_fill()\n",
    "pen.circle(eyesize)\n",
    "pen.end_fill()\n",
    "\n",
    "pen.fillcolor('#3248a8')\n",
    "pen.penup()\n",
    "pen.goto(50,100)\n",
    "pen.pendown()\n",
    "pen.begin_fill()\n",
    "pen.circle(eyesize)\n",
    "pen.end_fill()\n",
    "\n",
    "\n",
    "\n",
    "\n",
    "nose_size = 100\n",
    "pen.penup()\n",
    "pen.fillcolor('#a83232')\n",
    "pen.begin_fill()\n",
    "pen.goto(0, 50)\n",
    "pen.pendown()\n",
    "pen.circle(-nose_size, steps = 3)\n",
    "pen.end_fill()\n",
    "    \n",
    "    \n",
    "pen.penup()\n",
    "pen.goto(-100, -70)\n",
    "pen.down()\n",
    "pen.right(90)\n",
    "pen.circle(100, 180)\n",
    "\n",
    "turtle.done()"
   ]
  },
  {
   "cell_type": "code",
   "execution_count": 55,
   "id": "ac486dbe",
   "metadata": {},
   "outputs": [
    {
     "name": "stdout",
     "output_type": "stream",
     "text": [
      "72.61843774138907\n"
     ]
    }
   ],
   "source": [
    "# tính diện tích tam giác\n",
    "a = 10\n",
    "b = 20\n",
    "c = 15\n",
    "p = (a+b+c)/2\n",
    "s = (p*(p-a)*(p-b)*(p-c))**0.5\n",
    "print(s)"
   ]
  }
 ],
 "metadata": {
  "kernelspec": {
   "display_name": "Python 3 (ipykernel)",
   "language": "python",
   "name": "python3"
  },
  "language_info": {
   "codemirror_mode": {
    "name": "ipython",
    "version": 3
   },
   "file_extension": ".py",
   "mimetype": "text/x-python",
   "name": "python",
   "nbconvert_exporter": "python",
   "pygments_lexer": "ipython3",
   "version": "3.10.2"
  }
 },
 "nbformat": 4,
 "nbformat_minor": 5
}
