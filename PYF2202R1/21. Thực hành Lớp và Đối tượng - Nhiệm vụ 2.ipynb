{
 "cells": [
  {
   "cell_type": "code",
   "execution_count": null,
   "id": "1b7705b3",
   "metadata": {},
   "outputs": [],
   "source": [
    "\"\"\"\n",
    "Viết class NhanVien gồm các thuộc tính:\n",
    "+ Tên\n",
    "+ Tuổi\n",
    "+ Địa chỉ\n",
    "+ Tiền lương\n",
    "+ Tổng số giờ làm\n",
    "\n",
    "Và các phương thức:\n",
    "- Phương thức tạo\n",
    "- input_info() : Nhập các thông tin cho nhân viên từ bàn phím\n",
    "- print_info() : In ra tất cả các thông tin của nhân viên\n",
    "- tinh_thuong(): Tính toán và trả về số tiền thưởng của nhân viên theo công thức sau:\n",
    "Nếu tổng số giờ làm của nhân viên >=200 thì thưởng = lương * 20%\n",
    "Nếu tổng số giờ làm của nhân viên <200 và >=100 thì thưởng = lương * 10%\n",
    "Nếu tổng số giờ làm của nhân viên <100 thì thưởng = 0\n",
    "\"\"\""
   ]
  },
  {
   "cell_type": "code",
   "execution_count": 16,
   "id": "3cf0f41d",
   "metadata": {},
   "outputs": [],
   "source": [
    "class NhanVien:\n",
    "    def __init__(self, name, age, address, wage, working_hours):\n",
    "        self.name = name\n",
    "        self.age = age\n",
    "        self.address = address\n",
    "        self.wage = wage\n",
    "        self.working_hours = working_hours\n",
    "        \n",
    "    def print_info(self):\n",
    "        return f\"Nhân viên có thông tin như sau:\\nTên: {self.name}\\nTuổi: {self.age}\\nĐịa chỉ: {self.address}\"\n",
    "    \n",
    "    def calc_bounty(self):\n",
    "        if self.working_hours >= 200:\n",
    "            result = self.wage *20/100\n",
    "        elif self.working_hours < 200 and self.working_hours >= 100:\n",
    "            result = self.wage *10/100\n",
    "        else:\n",
    "            result = 0\n",
    "        return result"
   ]
  },
  {
   "cell_type": "code",
   "execution_count": 17,
   "id": "590325bf",
   "metadata": {
    "scrolled": true
   },
   "outputs": [
    {
     "name": "stdout",
     "output_type": "stream",
     "text": [
      "Nhân viên có thông tin như sau:\n",
      "Tên: Quân\n",
      "Tuổi: 30\n",
      "Địa chỉ: Ngọc Hà\n",
      "2000000.0\n"
     ]
    }
   ],
   "source": [
    "quan = NhanVien(\"Quân\", 30, \"Ngọc Hà\", 10000000, 400)\n",
    "print(quan.print_info())\n",
    "print(quan.calc_bounty())"
   ]
  },
  {
   "cell_type": "code",
   "execution_count": 19,
   "id": "3f08b80b",
   "metadata": {},
   "outputs": [],
   "source": [
    "class NhanVien:\n",
    "    def __init__(self):\n",
    "        self.name = \"\"\n",
    "        self.age = 0\n",
    "        self.address = \"\"\n",
    "        self.wage =0\n",
    "        self.working_hours = 0\n",
    "        \n",
    "    def input_info(self):\n",
    "        self.name = input(\"Nhập tên nhân viên: \")\n",
    "        self.age = int(input(\"Nhập tuổi nhân viên: \"))\n",
    "        self.address = input(\"Nhập địa chỉ nhân viên: \")\n",
    "        self.wage = float(input(\"Nhập lương nhân viên: \"))\n",
    "        self.working_hours = float(input(\"Nhập số giờ làm nhân viên: \"))\n",
    "        \n",
    "    def print_info(self):\n",
    "        print(f\"Tên: {self.ten}\")\n",
    "        print(f\"Tên: {self.ten}\")\n",
    "        print(f\"Tên: {self.ten}\")\n",
    "        print(f\"Tên: {self.ten}\")\n",
    "        print(f\"Tên: {self.ten}\")\n",
    "        \n",
    "    def calc_bounty(self):\n",
    "        if self.working_hours >= 200:\n",
    "            result = self.wage *20/100\n",
    "        elif self.working_hours < 200 and self.working_hours >= 100:\n",
    "            result = self.wage *10/100\n",
    "        else:\n",
    "            result = 0\n",
    "        return result"
   ]
  },
  {
   "cell_type": "code",
   "execution_count": 21,
   "id": "2401af25",
   "metadata": {},
   "outputs": [
    {
     "name": "stdout",
     "output_type": "stream",
     "text": [
      "Nhập tên nhân viên: Quân\n",
      "Nhập tuổi nhân viên: 30\n",
      "Nhập địa chỉ nhân viên: Ngọc Hà\n",
      "Nhập lương nhân viên: 10000000\n",
      "Nhập số giờ làm nhân viên: 400\n",
      "2000000.0\n"
     ]
    }
   ],
   "source": [
    "quan = NhanVien()\n",
    "quan.input_info()\n",
    "print(quan.calc_bounty())"
   ]
  }
 ],
 "metadata": {
  "kernelspec": {
   "display_name": "Python 3 (ipykernel)",
   "language": "python",
   "name": "python3"
  },
  "language_info": {
   "codemirror_mode": {
    "name": "ipython",
    "version": 3
   },
   "file_extension": ".py",
   "mimetype": "text/x-python",
   "name": "python",
   "nbconvert_exporter": "python",
   "pygments_lexer": "ipython3",
   "version": "3.10.2"
  }
 },
 "nbformat": 4,
 "nbformat_minor": 5
}
