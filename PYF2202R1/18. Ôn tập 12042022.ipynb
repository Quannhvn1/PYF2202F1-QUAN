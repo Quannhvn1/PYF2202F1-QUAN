{
 "cells": [
  {
   "cell_type": "markdown",
   "id": "64245592",
   "metadata": {},
   "source": [
    "## Bài 1\n",
    "Viết hàm có dữ liệu đầu vào là 2 số a, b. Số nào lớn hơn thì in ra bảng cửu chương của số đó"
   ]
  },
  {
   "cell_type": "code",
   "execution_count": 1,
   "id": "9345fb08",
   "metadata": {},
   "outputs": [
    {
     "name": "stdout",
     "output_type": "stream",
     "text": [
      "3\n",
      "6\n",
      "9\n",
      "12\n",
      "15\n",
      "18\n",
      "21\n",
      "24\n",
      "27\n"
     ]
    }
   ],
   "source": [
    "def calc_multiplication_table(a,b):\n",
    "    for i in range(1,10):\n",
    "        if a > b: \n",
    "            print(a*i)\n",
    "        else:\n",
    "            print(b*i)\n",
    "calc_multiplication_table(2,3)\n",
    "# so sánh nhiều lần nên ko tối ưu"
   ]
  },
  {
   "cell_type": "code",
   "execution_count": 2,
   "id": "eebb77cf",
   "metadata": {
    "scrolled": true
   },
   "outputs": [
    {
     "name": "stdout",
     "output_type": "stream",
     "text": [
      "6*1 = 6\n",
      "6*2 = 12\n",
      "6*3 = 18\n",
      "6*4 = 24\n",
      "6*5 = 30\n",
      "6*6 = 36\n",
      "6*7 = 42\n",
      "6*8 = 48\n",
      "6*9 = 54\n",
      "6*10 = 60\n"
     ]
    }
   ],
   "source": [
    "def calc_multiplication_table(a,b):\n",
    "    max_value = a if a>b else b\n",
    "    for i in range(1,11):\n",
    "        print(f\"{max_value}*{i} = {max_value * i}\")\n",
    "calc_multiplication_table(5,6)"
   ]
  },
  {
   "cell_type": "markdown",
   "id": "0157bc23",
   "metadata": {},
   "source": [
    "## Bài 2: \n",
    "Viết hàm `remove_string` có dữ liệu đầu vào là 2 chuỗi a và b, hãy tìm trong chuỗi a có chuỗi b hay không , nếu có hãy xoá toàn bộ chuỗi b trong a. Sau đó trả về chuỗi a mới\n",
    "Ví dụ: chuoi1= \"xin chào các bạn, các bạn có khoẻ không?\"\n",
    "chuoi 2= \"các bạn\"\n",
    "chuoi3 = remove_string(chuoi1, chuoi2)\n",
    "print(chuoi3)\n",
    "Kết quả in ra là : xin chào, có khoẻ không"
   ]
  },
  {
   "cell_type": "code",
   "execution_count": 3,
   "id": "735a08cc",
   "metadata": {},
   "outputs": [
    {
     "name": "stdout",
     "output_type": "stream",
     "text": [
      "xin chào ,  có khoẻ không?\n"
     ]
    }
   ],
   "source": [
    "def remove_string(a, b):\n",
    "    if b in a:\n",
    "        a = a.replace(b, \"\")\n",
    "    return a\n",
    "chuoi1 = \"xin chào các bạn, các bạn có khoẻ không?\"\n",
    "chuoi2 = \"các bạn\"\n",
    "chuoi3 = remove_string(chuoi1, chuoi2)\n",
    "print(chuoi3)"
   ]
  },
  {
   "cell_type": "markdown",
   "id": "716c187b",
   "metadata": {},
   "source": [
    "## Bài 3:\n",
    "Viết hàm nhận vào 4 số nguyên và trả về giá trị lớn thứ 2 trong 4 số nguyên\n"
   ]
  },
  {
   "cell_type": "code",
   "execution_count": 8,
   "id": "69cec083",
   "metadata": {},
   "outputs": [
    {
     "data": {
      "text/plain": [
       "3"
      ]
     },
     "execution_count": 8,
     "metadata": {},
     "output_type": "execute_result"
    }
   ],
   "source": [
    "def return_the_second_max_number(a,b,c,d):\n",
    "    list1 = [a,b,c,d]\n",
    "    max_value = a\n",
    "    if max_value < b:\n",
    "        max_value = b\n",
    "    if max_value < c:\n",
    "        max_value = c\n",
    "    if max_value < d:\n",
    "        max_value = d\n",
    "    list1.remove(max_value)\n",
    "    x = list1[0]\n",
    "    y = list1[1]\n",
    "    z = list1[2]\n",
    "    second_value = x\n",
    "    if second_value < y:\n",
    "        second_value = y\n",
    "    if second_value < z:\n",
    "        second_value = z\n",
    "    return second_value\n",
    "return_the_second_number(1,2,3,4)"
   ]
  },
  {
   "cell_type": "code",
   "execution_count": 10,
   "id": "d015aa6b",
   "metadata": {},
   "outputs": [
    {
     "data": {
      "text/plain": [
       "3"
      ]
     },
     "execution_count": 10,
     "metadata": {},
     "output_type": "execute_result"
    }
   ],
   "source": [
    "def return_the_second_max_number(a,b,c,d):\n",
    "    list1 = [a,b,c,d]\n",
    "    list1.sort()\n",
    "    return list1[-2]\n",
    "return_the_second_max_number(1,2,3,4)\n"
   ]
  },
  {
   "cell_type": "code",
   "execution_count": 13,
   "id": "faf31edc",
   "metadata": {},
   "outputs": [
    {
     "data": {
      "text/plain": [
       "3"
      ]
     },
     "execution_count": 13,
     "metadata": {},
     "output_type": "execute_result"
    }
   ],
   "source": [
    "def return_the_second_max_number(a,b,c,d):\n",
    "    max_value = a\n",
    "    if max_value < b:\n",
    "        max_value = b\n",
    "    if max_value < c:\n",
    "        max_value = c\n",
    "    if max_value < d:\n",
    "        max_value = d\n",
    "        \n",
    "    max_value2 = a\n",
    "    if b>max_value2 and b < max_value:\n",
    "        max_value2 = b\n",
    "    if c>max_value2 and c < max_value:\n",
    "        max_value2 = c\n",
    "    if d>max_value2 and d < max_value:\n",
    "        max_value2 = d\n",
    "    return max_value2\n",
    "return_the_second_max_number(1,2,3,4)"
   ]
  },
  {
   "cell_type": "markdown",
   "id": "a303b493",
   "metadata": {},
   "source": [
    "## Bài 4: \n",
    "treepersqkm là một dictionary thể hiện số cây trên km2 của mỗi quóc gia khác nhau. Viết hàm nhận vào dict này và trả về danh sách tên các quốc gia có hơn 20000 cây trên mỗi km2\n"
   ]
  },
  {
   "cell_type": "code",
   "execution_count": null,
   "id": "fd409602",
   "metadata": {},
   "outputs": [],
   "source": [
    "treepersqkm ={\"Finland\": 90652, \"Taiwan\" : 69593, \"Japan\": 49894, \"Russia\": 41396, \"Brasil\": 39542,\"Canada\":36388,\"Bulgaria\": 10000}"
   ]
  },
  {
   "cell_type": "code",
   "execution_count": 17,
   "id": "0840679c",
   "metadata": {},
   "outputs": [
    {
     "data": {
      "text/plain": [
       "['Finland', 'Taiwan', 'Japan', 'Russia', 'Brasil', 'Canada']"
      ]
     },
     "execution_count": 17,
     "metadata": {},
     "output_type": "execute_result"
    }
   ],
   "source": [
    "def filter_countries(data):\n",
    "    result = []\n",
    "    for country in data:\n",
    "        if data[country] > 20000:\n",
    "            result.append(country)\n",
    "    return result\n",
    "\n",
    "treepersqkm ={\"Finland\": 90652, \"Taiwan\" : 69593, \"Japan\": 49894, \"Russia\": 41396, \"Brasil\": 39542,\"Canada\":36388,\"Bulgaria\": 10000}\n",
    "filter_countries(treepersqkm)"
   ]
  }
 ],
 "metadata": {
  "kernelspec": {
   "display_name": "Python 3 (ipykernel)",
   "language": "python",
   "name": "python3"
  },
  "language_info": {
   "codemirror_mode": {
    "name": "ipython",
    "version": 3
   },
   "file_extension": ".py",
   "mimetype": "text/x-python",
   "name": "python",
   "nbconvert_exporter": "python",
   "pygments_lexer": "ipython3",
   "version": "3.10.2"
  }
 },
 "nbformat": 4,
 "nbformat_minor": 5
}
