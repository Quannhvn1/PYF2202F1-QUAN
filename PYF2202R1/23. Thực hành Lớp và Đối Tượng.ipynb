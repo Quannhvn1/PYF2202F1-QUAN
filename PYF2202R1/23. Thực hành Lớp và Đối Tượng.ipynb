{
 "cells": [
  {
   "cell_type": "markdown",
   "id": "ec00548e",
   "metadata": {},
   "source": [
    "# Thực hành Lớp và Đối Tượng "
   ]
  },
  {
   "cell_type": "markdown",
   "id": "e9a5b1b0",
   "metadata": {},
   "source": [
    "### Bài 1"
   ]
  },
  {
   "cell_type": "markdown",
   "id": "b89649bc",
   "metadata": {},
   "source": [
    "Viết một lớp point để lưu trữ một điểm trong hệ trục tọa độ Oxyz\n",
    "\n",
    "Class này có:\n",
    "\n",
    "<b> Các biến: </b>\n",
    "- <b>x</b>: mang tọa độ x của diểm\n",
    "- <b>y</b>: mang tọa độ y của diểm\n",
    "- <b>z</b>: mang tọa độ z của diểm\n",
    "\n",
    "<b> Các hàm: </b>\n",
    "- <b>khoangcachgoc:</b> hàm này trả về khoảng cách từ điểm đến điểm gốc(0,0,0)\n",
    "- <b>khoangcach(tham số đầu vào là 1 đối tượng có lớp point):</b> hàm này trả về khoảng cách từ điểm đến điểm được đưa vào\n",
    "- <b>diemdoixung:</b> hàm này trả về điểm đối của điểm qua điểm gốc(0,0,0)\n",
    "- <b>diemtrungbinh(tham số đầu vào là 1 đối tượng có lớp point):</b> hàm này trả về điểm nằm chính giữa điểm và điểm được đưa vào"
   ]
  },
  {
   "cell_type": "code",
   "execution_count": 37,
   "id": "ca30ea7d",
   "metadata": {},
   "outputs": [],
   "source": [
    "class Point():\n",
    "    def __init__(self,x,y,z):\n",
    "        self.x = x\n",
    "        self.y = y\n",
    "        self.z = z\n",
    "    \n",
    "    def __str__(self):\n",
    "        return f\"{self.x},{self.y},{self.z}\"\n",
    "    \n",
    "    def calc_distance_to_origin(self):\n",
    "        #O(0,0,0)\n",
    "        return f\"Khoảng cách từ điểm đến gốc toạ độ là: {(self.x**2 + self.y**2 + self.z**2)**0.5}\"\n",
    "    \n",
    "    def calc_distance_to_other(self , other):\n",
    "        return f\"Khoảng cách từ điểm đến gốc toạ độ là:{((self.x - other.x)**2 + (self.y - other.y)**2 + (self.z - other.z)**2)**0.5}\"\n",
    "    \n",
    "    def calc_symetry_point_coordinate(self):\n",
    "        return Point(-self.x, -self.y , -self.z)\n",
    "    \n",
    "    def calc_average_point_coordinate(self , other):\n",
    "        return Point((self.x + other.x)/2 , (self.y + other.y)/2 , (self.z + other.z)/2)\n",
    "        "
   ]
  },
  {
   "cell_type": "code",
   "execution_count": 38,
   "id": "687eba19",
   "metadata": {},
   "outputs": [
    {
     "data": {
      "text/plain": [
       "'-2,-1,-2'"
      ]
     },
     "execution_count": 38,
     "metadata": {},
     "output_type": "execute_result"
    }
   ],
   "source": [
    "point1 = Point(2,1,2)\n",
    "point2 = point1.calc_symetry_point_coordinate()\n",
    "point2.__str__()\n",
    "\n"
   ]
  }
 ],
 "metadata": {
  "kernelspec": {
   "display_name": "Python 3 (ipykernel)",
   "language": "python",
   "name": "python3"
  },
  "language_info": {
   "codemirror_mode": {
    "name": "ipython",
    "version": 3
   },
   "file_extension": ".py",
   "mimetype": "text/x-python",
   "name": "python",
   "nbconvert_exporter": "python",
   "pygments_lexer": "ipython3",
   "version": "3.10.2"
  }
 },
 "nbformat": 4,
 "nbformat_minor": 5
}
