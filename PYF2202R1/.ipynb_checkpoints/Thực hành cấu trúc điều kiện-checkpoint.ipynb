{
 "cells": [
  {
   "cell_type": "code",
   "execution_count": null,
   "id": "20646580",
   "metadata": {},
   "outputs": [],
   "source": [
    "# Thực hành: Cấu trúc điều kiện"
   ]
  },
  {
   "cell_type": "code",
   "execution_count": null,
   "id": "b1673976",
   "metadata": {},
   "outputs": [],
   "source": [
    "### Bài 1: Viết chương trình nhập vào chiều dài và chiều rộng của hình chữ nhật và cho biết đó có phải là hình vuông hay không."
   ]
  },
  {
   "cell_type": "code",
   "execution_count": 1,
   "id": "556994f0",
   "metadata": {},
   "outputs": [
    {
     "name": "stdout",
     "output_type": "stream",
     "text": [
      "4\n",
      "4\n",
      "Hình vuông\n"
     ]
    }
   ],
   "source": [
    "dai = int(input())\n",
    "rong = int(input())\n",
    "if dai == rong:\n",
    "    print(\"Hình vuông\")\n",
    "else:\n",
    "#     pass\n",
    "    print(\"Hình chữ nhật\")"
   ]
  },
  {
   "cell_type": "code",
   "execution_count": null,
   "id": "c10ca505",
   "metadata": {},
   "outputs": [],
   "source": [
    "### Bài 2: Viết chương trình nhập vào 2 số a, b và in ra số lớn nhất"
   ]
  },
  {
   "cell_type": "code",
   "execution_count": 3,
   "id": "8addea4b",
   "metadata": {},
   "outputs": [
    {
     "name": "stdout",
     "output_type": "stream",
     "text": [
      "2\n",
      "2\n",
      "Số lớn nhất là 2\n"
     ]
    }
   ],
   "source": [
    "a = int(input())\n",
    "b = int(input())\n",
    "if a >= b:\n",
    "    print(f\"Số lớn nhất là {a}\")\n",
    "else:\n",
    "    print(f\"Số lớn nhất là {b}\")\n",
    "'''\n",
    "a = int(input(\"nhập số a = \"))\n",
    "b = int(input(\"nhập số b = \"))\n",
    "print(f\"số là số lớn nhất là a = {a}\" if a>b else f\"số là số lớn nhất là b = {b}\")\n",
    "'''"
   ]
  },
  {
   "cell_type": "code",
   "execution_count": null,
   "id": "2faf0512",
   "metadata": {},
   "outputs": [],
   "source": [
    "### Bài 3: Viết chương trình nhập vào 3 số a, b, c và in ra số lớn nhất"
   ]
  },
  {
   "cell_type": "code",
   "execution_count": 15,
   "id": "0a2b9c40",
   "metadata": {},
   "outputs": [
    {
     "name": "stdout",
     "output_type": "stream",
     "text": [
      "5\n",
      "2\n",
      "1\n",
      "Số lớn nhất là 5\n"
     ]
    }
   ],
   "source": [
    "'''\n",
    "a = int(input())\n",
    "b = int(input())\n",
    "c = int(input())\n",
    "max1 = a\n",
    "min1 = a\n",
    "if max1 >= b:\n",
    "    if max1 >=c:\n",
    "        pass\n",
    "    else: \n",
    "        max1 = c \n",
    "else:\n",
    "    max1 = b\n",
    "    if max1 >= c:     \n",
    "        pass\n",
    "    else:\n",
    "        max1 = c\n",
    "print(f\"Số lớn nhất là {max1}\") \n",
    "'''\n",
    "'''\n",
    "a = int(input(\"nhập vào số a: \"))\n",
    "b = int(input(\"nhập vào số b: \"))\n",
    "c = int(input(\"nhập vào số c: \"))\n",
    "if a>b: \n",
    "    if a>c:\n",
    "        print(a)\n",
    "    else:\n",
    "        print(c)\n",
    "elif b>a:\n",
    "    if b>c:\n",
    "        print(b)\n",
    "    else:\n",
    "        print(c)\n",
    "elif c>a:\n",
    "    if c>b:\n",
    "        print(c)\n",
    "    else:\n",
    "        print(b)\n",
    "'''\n",
    "a = int(input())\n",
    "b = int(input())\n",
    "c = int(input())\n",
    "if a >= b:\n",
    "    if a >=c:\n",
    "        print(f\"Số lớn nhất là {a}\") \n",
    "    else:\n",
    "        print(f\"Số lớn nhất là {c}\")\n",
    "elif b >= c :\n",
    "    print(f\"Số lớn nhất là {b}\")\n",
    "else:\n",
    "    print(f\"Số lớn nhất là {c}\")\n",
    "            "
   ]
  },
  {
   "cell_type": "code",
   "execution_count": 17,
   "id": "a124df35",
   "metadata": {},
   "outputs": [
    {
     "name": "stdout",
     "output_type": "stream",
     "text": [
      "Input a: 1\n",
      "Input b: 2\n",
      "Input c: 3\n",
      "So lon nhat la 3\n"
     ]
    }
   ],
   "source": [
    "a = int(input('Input a: '))\n",
    "b = int(input('Input b: '))\n",
    "c = int(input('Input c: '))\n",
    "\n",
    "print(\"So lon nhat la\",a if a>b and a>c else b if b>c else c)\n"
   ]
  },
  {
   "cell_type": "code",
   "execution_count": 18,
   "id": "b959dd49",
   "metadata": {},
   "outputs": [
    {
     "name": "stdout",
     "output_type": "stream",
     "text": [
      "nhập số a: 1\n",
      "nhập số b: 2\n",
      "nhập số c: 3\n",
      "3.0\n"
     ]
    }
   ],
   "source": [
    "a = float(input(\"nhập số a: \"))\n",
    "b = float(input(\"nhập số b: \"))\n",
    "c = float(input(\"nhập số c: \"))\n",
    "if a > b and a > c:\n",
    "    print(a)\n",
    "elif b > a and b > c:\n",
    "    print(b)\n",
    "else:\n",
    "    print(c)\n"
   ]
  },
  {
   "cell_type": "code",
   "execution_count": null,
   "id": "efc1ed5a",
   "metadata": {},
   "outputs": [],
   "source": [
    "### Bài 4: Viết chương trình nhập vào số tuổi của 3 người và cho biết ai là người trẻ nhất và ai là người lớn tuổi nhất"
   ]
  },
  {
   "cell_type": "code",
   "execution_count": 20,
   "id": "7d4ea15e",
   "metadata": {},
   "outputs": [
    {
     "name": "stdout",
     "output_type": "stream",
     "text": [
      "1\n",
      "2\n",
      "3\n",
      "3\n"
     ]
    },
    {
     "data": {
      "text/plain": [
       "'\\na = int(input(\"tuổi người thứ 1\"))\\nb = int(input(\"tuổi người thứ 2\"))\\nc = int(input(\"tuổi người thứ 3\"))\\nlon_nhat = max(a,b,c)\\nnho_nhat = min(a,b,c)\\nif lon_nhat ==a:\\n    print(\"Người 1 lớn tuổi nhất\")\\nelif lon_nhat ==b:\\n    print(\"Người 2 lớn tuổi nhất\")\\nelif lon_nhat ==c:\\n    print(\"Người 3 lớn tuổi nhất\")   \\nif nho_nhat ==a:\\n    print(\"Người 1 nhỏ tuổi nhất\")\\nelif nho_nhat ==b:\\n    print(\"Người 2 nhỏ tuổi nhất\")\\nelif nho_nhat ==c:\\n    print(\"Người 3 nhỏ tuổi nhất\")\\n'"
      ]
     },
     "execution_count": 20,
     "metadata": {},
     "output_type": "execute_result"
    }
   ],
   "source": [
    "a = int(input())\n",
    "b = int(input())\n",
    "c = int(input())\n",
    "print(max(a,b,c))\n",
    "\n",
    "'''\n",
    "a = int(input(\"tuổi người thứ 1\"))\n",
    "b = int(input(\"tuổi người thứ 2\"))\n",
    "c = int(input(\"tuổi người thứ 3\"))\n",
    "lon_nhat = max(a,b,c)\n",
    "nho_nhat = min(a,b,c)\n",
    "if lon_nhat ==a:\n",
    "    print(\"Người 1 lớn tuổi nhất\")\n",
    "elif lon_nhat ==b:\n",
    "    print(\"Người 2 lớn tuổi nhất\")\n",
    "elif lon_nhat ==c:\n",
    "    print(\"Người 3 lớn tuổi nhất\")   \n",
    "if nho_nhat ==a:\n",
    "    print(\"Người 1 nhỏ tuổi nhất\")\n",
    "elif nho_nhat ==b:\n",
    "    print(\"Người 2 nhỏ tuổi nhất\")\n",
    "elif nho_nhat ==c:\n",
    "    print(\"Người 3 nhỏ tuổi nhất\")\n",
    "'''"
   ]
  },
  {
   "cell_type": "code",
   "execution_count": null,
   "id": "b7653971",
   "metadata": {},
   "outputs": [],
   "source": [
    "a = int(input(\"nhập số tuổi người 1: \"))\n",
    "b = int(input(\"nhập số tuổi người 2: \"))\n",
    "c = int(input(\"nhập số tuổi người 3: \"))\n",
    "\n",
    "if a>b and a>c and b > c:\n",
    "    print(\"số lớn nhất: \",a)\n",
    "    print(\"tuổi nhở nhất: \",c)\n",
    "if a>b and a>c and b < c:\n",
    "    print(\"số lớn nhất: \",a)\n",
    "    print(\"tuổi nhở nhất: \",b)\n",
    "    \n",
    "elif b>a and b>c and a > c:\n",
    "    print(\"số lớn nhất: \",b)\n",
    "    print(\"tuổi nhở nhất: \",c)\n",
    "elif b>a and b>c and a < c:\n",
    "    print(\"số lớn nhất: \",b)\n",
    "    print(\"tuổi nhở nhất: \",a)\n",
    "    \n",
    "elif c>a and c>b and a > b:\n",
    "    print(\"số lớn nhất: \",c)\n",
    "    print(\"tuổi nhở nhất: \",b)\n",
    "elif c>a and c>b and a < b:\n",
    "    print(\"số lớn nhất: \",c)\n",
    "    print(\"tuổi nhở nhất: \",a)\n"
   ]
  },
  {
   "cell_type": "code",
   "execution_count": 22,
   "id": "08a17a4b",
   "metadata": {},
   "outputs": [
    {
     "name": "stdout",
     "output_type": "stream",
     "text": [
      "nhập số tuổi người 1: 1\n",
      "nhập số tuổi người 2: 2\n",
      "nhập số tuổi người 3: 3\n",
      "Số tuổi nhỏ nhất là: 1\n",
      "Số tuổi lớn nhất là: 3\n"
     ]
    }
   ],
   "source": [
    "a = int(input(\"nhập số tuổi người 1: \"))\n",
    "b = int(input(\"nhập số tuổi người 2: \"))\n",
    "c = int(input(\"nhập số tuổi người 3: \"))\n",
    "min1 = a\n",
    "max1 = a\n",
    "if b < min1:\n",
    "    min1 = b\n",
    "if c < min1:\n",
    "    min1 = c\n",
    "if b > max1:\n",
    "    max1 = b\n",
    "if c > max1:\n",
    "    max1 = c\n",
    "print(f\"Số tuổi nhỏ nhất là: {min1}\")\n",
    "print(f\"Số tuổi lớn nhất là: {max1}\")"
   ]
  },
  {
   "cell_type": "code",
   "execution_count": null,
   "id": "40ee223a",
   "metadata": {},
   "outputs": [],
   "source": [
    "### Bài 5: Viết chương trình nhập vào một số bất kỳ và in ra giá trị tuyệt đối của số đó"
   ]
  },
  {
   "cell_type": "code",
   "execution_count": 24,
   "id": "db1b6c29",
   "metadata": {},
   "outputs": [
    {
     "name": "stdout",
     "output_type": "stream",
     "text": [
      "-98\n",
      "Giá trị tuyệt đối là: 98.0\n"
     ]
    }
   ],
   "source": [
    "a = float(input())\n",
    "if a >= 0:\n",
    "    print(f\"Giá trị tuyệt đối là: {a}\") \n",
    "else: \n",
    "    print(f\"Giá trị tuyệt đối là: {-a}\")"
   ]
  },
  {
   "cell_type": "code",
   "execution_count": null,
   "id": "fd929b3b",
   "metadata": {},
   "outputs": [],
   "source": [
    "### Bài 6: Học viên sẽ không đủ điều kiện thi nếu tỉ lệ có mặt nhỏ hơn 75%. Viết chương trình nhập vào tổng số buổi học của một khóa học và tổng số buổi học mà học viên tham gia. Sau đó cho biết học viên đó có đủ điều kiện thi hay không."
   ]
  },
  {
   "cell_type": "code",
   "execution_count": 26,
   "id": "3eaa86ce",
   "metadata": {},
   "outputs": [
    {
     "name": "stdout",
     "output_type": "stream",
     "text": [
      "Số buổi học: 100\n",
      "Số buổi tham gia: 75\n",
      "Đủ điều kiện\n"
     ]
    }
   ],
   "source": [
    "a = int(input(\"Số buổi học: \"))\n",
    "b = int(input(\"Số buổi tham gia: \"))\n",
    "if b >= 75*a/100:\n",
    "    print(\"Đủ điều kiện\")\n",
    "else:\n",
    "    print(\"Không đủ điều kiện thi\")"
   ]
  },
  {
   "cell_type": "code",
   "execution_count": null,
   "id": "c0a7c427",
   "metadata": {},
   "outputs": [],
   "source": [
    "### Bài 7: Một công ty vận tải có cách tính chi phí giao hàng như sau:\n",
    "1. 10kilogram đầu tiên: \\$5/kg\n",
    "2. Từ kilogram thứ 11 đến 20: \\$7/kg\n",
    "3. Từ kilogram thứ 20 trở lên: \\$10/kg\n",
    "\n",
    "Viết chương trình nhập vào số kg cần giao(số nguyên) và in ra chi phí giao hàng tương ứng"
   ]
  },
  {
   "cell_type": "code",
   "execution_count": null,
   "id": "7db18fdc",
   "metadata": {},
   "outputs": [],
   "source": [
    "kg = int(input(\"Số kg cần giao\"))\n",
    "if kg < 10\n",
    "    print(f\"Số kg cần giao: {kg} Chi phí giao hàng: {kg*5}\")\n",
    "elif kg < 20 and kg > 10:\n",
    "    print(f\"Số kg cần giao: {kg} Chi phí giao hàng: {50 + (kg-10)*7}\")\n",
    "else:\n",
    "    print(f\"Số kg cần giao: {kg} Chi phí giao hàng: {120 + (kg-19)*10}\")\n"
   ]
  },
  {
   "cell_type": "code",
   "execution_count": null,
   "id": "ce3a37b3",
   "metadata": {},
   "outputs": [],
   "source": [
    "kg = int(input(\"Số kilogram cần giao : \"))\n",
    "tien10 = 5\n",
    "tien20 = 7\n",
    "tien21 = 10\n",
    "\n",
    "if kg <= 10:\n",
    "    print(\"số tiền bạn cần trả là\" , tien10*kg , \"$\")\n",
    "elif kg > 10 and kg < 20:\n",
    "    print(\"số tiền bạn cần trả là\" , (tien10*10 + tien20*(kg-10)) , \"$\")\n",
    "else:\n",
    "    print(\"số tiền bạn cần trả là\" , 113 + tien21*(kg-19) , \"$\" )\n"
   ]
  },
  {
   "cell_type": "code",
   "execution_count": null,
   "id": "66d99aad",
   "metadata": {},
   "outputs": [],
   "source": [
    "### Bài 8: Viết chương trình nhập vào số năm và cho biết năm đó là năm nhuận hay năm không nhuận."
   ]
  },
  {
   "cell_type": "code",
   "execution_count": null,
   "id": "b76553cd",
   "metadata": {},
   "outputs": [],
   "source": [
    "n = int(input('Nhập năm: '))\n",
    "if (n % 400 == 0) or ((n % 4 == 0) and (n % 100 != 0)):\n",
    "    print('Nam nhuan')\n",
    "else:\n",
    "    print('Nam khong nhuan')\n"
   ]
  },
  {
   "cell_type": "code",
   "execution_count": null,
   "id": "d2931041",
   "metadata": {},
   "outputs": [],
   "source": [
    "### Bài 9: Viết chương trình nhập vào 1 số từ 1 đến 7 và in ra số ngày trong tuần tương ứng như sau:\n",
    "- 1: Sunday\n",
    "- 2: Monday\n",
    "- 3: Tuesday\n",
    "- 4: Wednesday\n",
    "- 5: Thursday\n",
    "- 6: Friday\n",
    "- 7: Saturday"
   ]
  },
  {
   "cell_type": "code",
   "execution_count": 32,
   "id": "4bab0d8c",
   "metadata": {},
   "outputs": [
    {
     "name": "stdout",
     "output_type": "stream",
     "text": [
      "7\n",
      "Saturday\n"
     ]
    }
   ],
   "source": [
    "n = int(input())\n",
    "if n == 1:\n",
    "    print(\"Sunday\")\n",
    "elif n == 2:\n",
    "    print(\"Monday\")\n",
    "elif n == 3:\n",
    "    print(\"Tuesday\")\n",
    "elif n == 4:\n",
    "    print(\"Wednesday\")\n",
    "elif n == 5:\n",
    "    print(\"Thursday\")\n",
    "elif n == 6:\n",
    "    print(\"Friday\")\n",
    "elif n == 7:\n",
    "    print(\"Saturday\")"
   ]
  },
  {
   "cell_type": "code",
   "execution_count": null,
   "id": "9aa142d7",
   "metadata": {},
   "outputs": [],
   "source": [
    "### Bài 10:\n",
    "Tại một cửa hàng nọ có menu như sau:\n",
    "\n",
    "1. Gà rán giá 35k\n",
    "2. Hamburger giá 50k\n",
    "3. Pesi giá 10k\n",
    "\n",
    "Nhập số lượng món hàng cần mua\n",
    "\n",
    "Tính và in ra tổng giá tiền\n",
    "\n",
    "Nếu giá trị đơn hàng trên 2 triệu, giảm 10% cho khách, trên 4 triệu, giảm 15%\n",
    "\n",
    "Tính và in ra tổng giá tiền được giảm\n",
    "\n",
    "Tính và in ra tổng giá tiền khách cần trả\n",
    "\n",
    "In ra dòng chữ \"Cảm ơn quý khách đã mua hàng\""
   ]
  },
  {
   "cell_type": "code",
   "execution_count": null,
   "id": "87c6d4a1",
   "metadata": {},
   "outputs": [],
   "source": [
    "\"\"\"Ví dụ:\n",
    "Nhập số lượng gà rán khách mua:100\n",
    "Nhập số lượng hamburger khách mua:100\n",
    "Nhập số lượng pesi khách mua:15\n",
    "Tổng giá tiền đơn hàng là: 8.650.000\n",
    "Tổng tiền được giảm là: 1.297.500\n",
    "Tổng tiền phải thanh toán: 7.352.500\n",
    "Cảm ơn quý khách đã mua\n",
    "\"\"\""
   ]
  },
  {
   "cell_type": "code",
   "execution_count": null,
   "id": "f75fa383",
   "metadata": {},
   "outputs": [],
   "source": [
    "a = float(input(\"Gà rán: \"))\n",
    "b = float(input(\"Hamburger: \"))\n",
    "c = float(input(\"Pepsi: \"))\n",
    "ga = 35000\n",
    "banh = 50000\n",
    "nuoc = 10000\n",
    "total = a * ga + b * banh + c * nuoc\n",
    "discount = 0\n",
    "if total > 2000000 and total < 4000000\n",
    "    discount = 10 * total / 100\n",
    "elif total > 4000000\n",
    "    discount = 15 * total / 100\n",
    "else: \n",
    "print(f\"Số tiền được giảm: {discount})    \n",
    "print(f\"Số tiền cần trả: {total - discount})\n",
    "print(\"Cảm ơn quý khách đã mua\")"
   ]
  },
  {
   "cell_type": "code",
   "execution_count": null,
   "id": "8d70e76e",
   "metadata": {},
   "outputs": [],
   "source": [
    "### Bài 11:\n",
    "BMI = cân nặng (kg) / chiều cao (m) * chiều cao (m)\n",
    "Nhập vào chiều cao (cm) và cân nặng (kg), tính số BMI và xét rồi xin kết quả theo dữ liệu sau:\n",
    "\n",
    "- BMI < 16: Gầy cấp độ III\n",
    "- 16 <= BMI < 17:  Gầy cấp độ II\n",
    "- 17<= BMI < 18.5: Gầy cấp độ I\n",
    "- 18.5 <= BMI < 25: Bình thường\n",
    "- 25 <= BMI < 30: Thừa cân\n",
    "- 30 <= BMI < 35 : Béo phì cấp độ I\n",
    "- 35 <= BMI < 40: Béo phì cấp độ II\n",
    "- BMI > 40: Béo phì cấp độ III"
   ]
  },
  {
   "cell_type": "code",
   "execution_count": 33,
   "id": "ac5f1a74",
   "metadata": {},
   "outputs": [
    {
     "name": "stdout",
     "output_type": "stream",
     "text": [
      "Nhập cân nặng(kg): 35\n",
      "Nhập chiều cao(cm): 12\n",
      "Béo phì cấp độ III\n"
     ]
    }
   ],
   "source": [
    "weight = float(input(\"Nhập cân nặng(kg): \"))\n",
    "height = float(input(\"Nhập chiều cao(cm): \"))\n",
    "bmi = weight / ((height/100)**2)\n",
    "if bmi < 16:\n",
    "    print(\"Gầy cấp độ III\")\n",
    "elif 16 <= bmi and bmi < 17:\n",
    "    print(\"Gầy cấp độ II\")\n",
    "elif 17 <= bmi and bmi < 18.5:\n",
    "    print(\"Gầy cấp độ I\")\n",
    "elif 18.5 <= bmi and bmi < 25:\n",
    "    print(\"Bình thường\")\n",
    "elif 25 <= bmi and bmi < 30:\n",
    "    print(\"Thừa cân\")\n",
    "elif 30 <= bmi and bmi < 35:\n",
    "    print(\"Béo phì cấp độ I\")\n",
    "elif 35 <= bmi and bmi < 40:\n",
    "    print(\"Béo phì cấp độ II\")\n",
    "else:\n",
    "    print(\"Béo phì cấp độ III\")"
   ]
  },
  {
   "cell_type": "code",
   "execution_count": null,
   "id": "c8cf0810",
   "metadata": {},
   "outputs": [],
   "source": [
    "### Bài 12: Tìm ra người lớn tuổi nhất trong 4 người thông qua số tuổi nhập vào từ người dùng."
   ]
  },
  {
   "cell_type": "code",
   "execution_count": 36,
   "id": "d0124153",
   "metadata": {},
   "outputs": [
    {
     "name": "stdout",
     "output_type": "stream",
     "text": [
      "tuổi người thứ 111\n",
      "tuổi người thứ 222\n",
      "tuổi người thứ 33\n",
      "tuổi người thứ 444\n",
      "Số tuổi lớn nhất: 44\n",
      "Người lớn tuổi nhất là: người thứ tư\n"
     ]
    }
   ],
   "source": [
    "a = int(input(\"tuổi người thứ 1\"))\n",
    "b = int(input(\"tuổi người thứ 2\"))\n",
    "c = int(input(\"tuổi người thứ 3\"))\n",
    "d = int(input(\"tuổi người thứ 4\"))\n",
    "max1 = a\n",
    "oldest = \"người thứ nhất\"\n",
    "if b > max1:\n",
    "    max1 = b\n",
    "    oldest = \"người thứ hai\"\n",
    "if c > max1:\n",
    "    max1 = c\n",
    "    oldest = \"người thứ ba\"\n",
    "if d > max1:\n",
    "    max1 = d\n",
    "    oldest = \"người thứ tư\"\n",
    "print(f\"Số tuổi lớn nhất: {max1}\")\n",
    "print(f\"Người lớn tuổi nhất là: {oldest}\")\n",
    "\n"
   ]
  },
  {
   "cell_type": "code",
   "execution_count": null,
   "id": "ccd0ae8b",
   "metadata": {},
   "outputs": [],
   "source": [
    "## BONUS"
   ]
  },
  {
   "cell_type": "code",
   "execution_count": null,
   "id": "d4079623",
   "metadata": {},
   "outputs": [],
   "source": [
    "### Bài 13: Viết chương trình nhập vào số đo 3 cạnh của tam giác và cho biết đó là tam giác cân, tam giác đều hay tam giác vô hướng\n",
    "Ghi chú:\n",
    " - Tam giác cân là tam giác có 2 cạnh bằng nhau\n",
    " - Tam giác đều là tam giác có 3 cạnh bằng nhau\n",
    " - Tam giác vô hướng là tam giác không có cạnh nào bằng nhau"
   ]
  },
  {
   "cell_type": "code",
   "execution_count": 5,
   "id": "2aa88ed9",
   "metadata": {},
   "outputs": [
    {
     "name": "stdout",
     "output_type": "stream",
     "text": [
      "Cạnh 1: 2\n",
      "Cạnh 2: 3\n",
      "Cạnh 3: 3\n",
      "Cân\n"
     ]
    }
   ],
   "source": [
    "a = float(input(\"Cạnh 1: \"))\n",
    "b = float(input(\"Cạnh 2: \"))\n",
    "c = float(input(\"Cạnh 3: \"))\n",
    "if a == b and b == c:\n",
    "    print(\"Đều\")\n",
    "elif a == b or b == c or a == c:\n",
    "    print(\"Cân\")\n",
    "else:\n",
    "    print(\"Vô hướng\")           "
   ]
  },
  {
   "cell_type": "code",
   "execution_count": null,
   "id": "024e8f4f",
   "metadata": {},
   "outputs": [],
   "source": [
    "### Bài 14: Viết chương trình nhập vào 3 số nguyên khác nhau và in ra số lớn thứ hai"
   ]
  },
  {
   "cell_type": "code",
   "execution_count": 9,
   "id": "92be89a9",
   "metadata": {},
   "outputs": [
    {
     "name": "stdout",
     "output_type": "stream",
     "text": [
      "số 1: 5\n",
      "số 2: 1\n",
      "số 3: 2\n",
      "Số thứ 2 là: 2\n"
     ]
    }
   ],
   "source": [
    "a = int(input(\"số 1: \"))\n",
    "b = int(input(\"số 2: \"))\n",
    "c = int(input(\"số 3: \"))\n",
    "max2 = a\n",
    "if (a > b and b > c) or (a < b and b < c):\n",
    "    max2 = b\n",
    "if (a > c and c > b) or (a < c and c < a):\n",
    "    max2 = c\n",
    "print(f\"Số thứ 2 là: {max2}\")"
   ]
  },
  {
   "cell_type": "code",
   "execution_count": null,
   "id": "753cb679",
   "metadata": {},
   "outputs": [],
   "source": [
    "### Bài 15: Xem đoạn code sau:\n",
    "![image.png](attachment:image.png)\n",
    "Nếu i, j, k có các giá trị ban đầu là:\n",
    "\n",
    "a. i = 3, j = 5, k = 7\n",
    "\n",
    "b. i = 13, j = 15, k = 13\n",
    "\n",
    "Thì giá trị của i, j, k sau khi thực hiện đoạn code trên là bao nhiêu?(kiểm tra bằng cách tính nhẩm, không code lại)"
   ]
  },
  {
   "cell_type": "code",
   "execution_count": null,
   "id": "4e86f155",
   "metadata": {},
   "outputs": [],
   "source": [
    "a. i = 5, j = 5, k = 7\n",
    "b. i = 3, j = 13, k = 13"
   ]
  },
  {
   "cell_type": "code",
   "execution_count": null,
   "id": "bc9a0d24",
   "metadata": {},
   "outputs": [],
   "source": [
    "### Bài 16: Viết một chương trình thực hiện phép tính đơn giản như sau:\n",
    "```\n",
    "    Nhập số thứ nhất: 16\n",
    "    Nhập số thứ hai: 9\n",
    "    Nhập toán tử (+, -, *, /): +\n",
    "    Kết quả: 16 + 9 = 25\n",
    "```"
   ]
  },
  {
   "cell_type": "code",
   "execution_count": 15,
   "id": "14cda4fa",
   "metadata": {},
   "outputs": [
    {
     "name": "stdout",
     "output_type": "stream",
     "text": [
      "số 1: 1\n",
      "số 2: 2\n",
      "toán tử: /\n",
      " KQ : 0.5\n"
     ]
    }
   ],
   "source": [
    "a = int(input(\"số 1: \"))\n",
    "b = int(input(\"số 2: \"))\n",
    "operator = input(\"toán tử: \")\n",
    "if operator == \"+\":\n",
    "    print(f\" KQ : {a + b}\")\n",
    "elif operator == \"-\":\n",
    "    print(f\" KQ : {a - b}\")\n",
    "elif operator == \"*\":\n",
    "    print(f\" KQ : {a * b}\")\n",
    "else:\n",
    "    print(f\" KQ : {a / b}\")"
   ]
  },
  {
   "cell_type": "code",
   "execution_count": null,
   "id": "b21d4006",
   "metadata": {},
   "outputs": [],
   "source": [
    "### Bài 17: Viết chương trình nhập vào 3 số nguyên và in ra màn hình theo thứ tự từ lớn đến bé."
   ]
  },
  {
   "cell_type": "code",
   "execution_count": 22,
   "id": "3236c595",
   "metadata": {},
   "outputs": [
    {
     "name": "stdout",
     "output_type": "stream",
     "text": [
      "số 1: 1\n",
      "số 2: 5\n",
      "số 3: 3\n",
      "5, 3, 1\n"
     ]
    }
   ],
   "source": [
    "a = int(input(\"số 1: \"))\n",
    "b = int(input(\"số 2: \"))\n",
    "c = int(input(\"số 3: \"))\n",
    "# if a > b and b > c:\n",
    "# elif a > c and c > b:\n",
    "# elif b > a and a > c:\n",
    "# elif b > c and c > a: \n",
    "# elif c > a and a > b:\n",
    "# elif c > b and b > a:\n",
    "max1 = a\n",
    "max2 = 0\n",
    "max3 = 0\n",
    "if b > max1:\n",
    "    max1 = b\n",
    "    if c > a:\n",
    "        max2 = c\n",
    "        max3 = a\n",
    "    else:\n",
    "        max2 = a\n",
    "        max3 = c\n",
    "if c > max1:\n",
    "    max1 = c\n",
    "    if b > a:\n",
    "        max2 = b\n",
    "        max3 = a\n",
    "    else: \n",
    "        max2 = a \n",
    "        max3 = b   \n",
    "    \n",
    "    \n",
    "   \n",
    "print(f\"{max1}, {max2}, {max3}\")\n"
   ]
  }
 ],
 "metadata": {
  "kernelspec": {
   "display_name": "Python 3 (ipykernel)",
   "language": "python",
   "name": "python3"
  },
  "language_info": {
   "codemirror_mode": {
    "name": "ipython",
    "version": 3
   },
   "file_extension": ".py",
   "mimetype": "text/x-python",
   "name": "python",
   "nbconvert_exporter": "python",
   "pygments_lexer": "ipython3",
   "version": "3.10.2"
  }
 },
 "nbformat": 4,
 "nbformat_minor": 5
}
