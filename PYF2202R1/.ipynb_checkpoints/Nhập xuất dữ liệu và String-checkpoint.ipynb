{
 "cells": [
  {
   "cell_type": "markdown",
   "id": "7ac14915",
   "metadata": {},
   "source": [
    "# Nhập xuất dữ liệu và String\n",
    "## Cách nhập xuất dữ liệu"
   ]
  },
  {
   "cell_type": "markdown",
   "id": "0f202ae8",
   "metadata": {},
   "source": [
    "### Xuất dữ liệu ra màn hình\n",
    "Để in các nội dung mà chúng ta mong muốn ra màn hình, ta sử dụng lệnh print()"
   ]
  },
  {
   "cell_type": "code",
   "execution_count": 1,
   "id": "a6d3f260",
   "metadata": {},
   "outputs": [
    {
     "name": "stdout",
     "output_type": "stream",
     "text": [
      "python is very easy\n"
     ]
    }
   ],
   "source": [
    "# Ví dụ: In ra nội dung \"python is very easy\"\n",
    "print(\"python is very easy\")"
   ]
  },
  {
   "cell_type": "markdown",
   "id": "7733925a",
   "metadata": {},
   "source": [
    "### Các cách custom với lệnh print"
   ]
  },
  {
   "cell_type": "markdown",
   "id": "292ab570",
   "metadata": {},
   "source": [
    "Để in một nội dung kèm theo giá trị của biến, ta có các cách sau:"
   ]
  },
  {
   "cell_type": "code",
   "execution_count": null,
   "id": "20ff912c",
   "metadata": {},
   "outputs": [],
   "source": [
    "food_1 = \"chocolate\"\n",
    "food_2 = \"sandwich\""
   ]
  },
  {
   "cell_type": "code",
   "execution_count": 4,
   "id": "6407a448",
   "metadata": {},
   "outputs": [
    {
     "name": "stdout",
     "output_type": "stream",
     "text": [
      "chocolate\n",
      "sandwich\n"
     ]
    }
   ],
   "source": [
    "# In trực tiếp\n",
    "food_1 = \"chocolate\"\n",
    "food_2 = \"sandwich\"\n",
    "print(food_1)\n",
    "print(food_2)"
   ]
  },
  {
   "cell_type": "code",
   "execution_count": 8,
   "id": "27d098b8",
   "metadata": {},
   "outputs": [
    {
     "name": "stdout",
     "output_type": "stream",
     "text": [
      "chocolatesandwich\n",
      "I love chocolate and I hate sandwich\n"
     ]
    }
   ],
   "source": [
    "# In bằng cách ghép các nội dung với nhau\n",
    "food_1 = \"chocolate\"\n",
    "food_2 = \"sandwich\"\n",
    "print(food_1+food_2)\n",
    "print(\"I love\" , food_1 , \"and I hate\" , food_2)"
   ]
  },
  {
   "cell_type": "code",
   "execution_count": 10,
   "id": "717666f2",
   "metadata": {},
   "outputs": [
    {
     "name": "stdout",
     "output_type": "stream",
     "text": [
      "I love chocolate and I hate sandwich\n"
     ]
    }
   ],
   "source": [
    "# Sử dụng String Format\n",
    "#https://realpython.com/python-string-formatting/\n",
    "print(f\"I love {food_1} and I hate {food_2}\")"
   ]
  },
  {
   "cell_type": "code",
   "execution_count": 18,
   "id": "c7276e05",
   "metadata": {},
   "outputs": [
    {
     "name": "stdout",
     "output_type": "stream",
     "text": [
      "I love chocolateand I hate sandwich"
     ]
    }
   ],
   "source": [
    "# Sử dụng nhiều lệnh print\n",
    "food_1 = \"chocolate\"\n",
    "food_2 = \"sandwich\"\n",
    "print(\"I love\", end = \" \")\n",
    "print(food_1, end =\"\")\n",
    "print(\"and I hate\", end = \" \")\n",
    "print(food_2, end = \"\")"
   ]
  },
  {
   "cell_type": "markdown",
   "id": "e10788fb",
   "metadata": {},
   "source": [
    "### Nhập dữ liệu\n",
    "Để nhập dữ liệu vào chương trình python, chúng ta sử dụng hàm input()"
   ]
  },
  {
   "cell_type": "code",
   "execution_count": 22,
   "id": "b8b8afd3",
   "metadata": {},
   "outputs": [
    {
     "name": "stdout",
     "output_type": "stream",
     "text": [
      "Input your name:  jh\n",
      "jh\n",
      "<class 'str'>\n"
     ]
    }
   ],
   "source": [
    "name = input(\"Input your name:  \")\n",
    "print(name)\n",
    "print(type(name))"
   ]
  },
  {
   "cell_type": "code",
   "execution_count": 24,
   "id": "b1268751",
   "metadata": {},
   "outputs": [
    {
     "name": "stdout",
     "output_type": "stream",
     "text": [
      "nhập tháng: 3\n",
      "3\n"
     ]
    }
   ],
   "source": [
    "month= int(input(\"nhập tháng: \"))\n",
    "print(month)"
   ]
  },
  {
   "cell_type": "markdown",
   "id": "337f9c15",
   "metadata": {},
   "source": [
    "#### Thực hành: Viết chương trình nhập vào chiều dài và chiều rộng của hình chữ nhật, sau đó in ra chu vi và diện tích của hình chữ nhật đó"
   ]
  },
  {
   "cell_type": "code",
   "execution_count": 25,
   "id": "add68103",
   "metadata": {},
   "outputs": [
    {
     "name": "stdout",
     "output_type": "stream",
     "text": [
      "chieu_dai: 2\n",
      "chieu_rong: 3\n"
     ]
    }
   ],
   "source": [
    "# Nhập các kích thước của hình chữ nhật\n",
    "a = int(input(\"chieu_dai: \"))\n",
    "b = int(input(\"chieu_rong: \")) "
   ]
  },
  {
   "cell_type": "code",
   "execution_count": 37,
   "id": "7a1cd73e",
   "metadata": {},
   "outputs": [
    {
     "name": "stdout",
     "output_type": "stream",
     "text": [
      "chieu_dai: 1\n",
      "chieu_rong: 2\n",
      "chu_vi = 6\n",
      "dien_tich = 2\n",
      "chu vi 6\n",
      "dien tich 2\n",
      "chu vi 6 dien tich 2\n"
     ]
    }
   ],
   "source": [
    "# Tính toán chu vi, diện tích\n",
    "chieu_dai = int(input(\"chieu_dai: \"))\n",
    "chieu_rong = int(input(\"chieu_rong: \"))\n",
    "chu_vi = (chieu_dai+chieu_rong)*2\n",
    "dien_tich = chieu_dai*chieu_rong\n",
    "print(f\"chu_vi = {chu_vi}\")\n",
    "print(f\"dien_tich = {dien_tich}\")\n",
    "print(\"chu vi\",chu_vi)\n",
    "print(\"dien tich\", dien_tich)\n",
    "print(\"chu vi\", end = \" \")\n",
    "print(chu_vi, end =\" \")\n",
    "print(\"dien tich\", end = \" \")\n",
    "print(dien_tich)"
   ]
  },
  {
   "cell_type": "code",
   "execution_count": null,
   "id": "d0adf735",
   "metadata": {},
   "outputs": [],
   "source": [
    "# In kết quả ra màn hình bằng 3 cách"
   ]
  },
  {
   "cell_type": "markdown",
   "id": "fb54cb77",
   "metadata": {},
   "source": [
    "#### Thực hành: Viết chương trình nhập vào số đo cạnh và mã màu của tam giác đều, sau đó sử dụng turtle để vẽ ra hình tam giác có số đo và màu tương ứng"
   ]
  },
  {
   "cell_type": "code",
   "execution_count": 55,
   "id": "7583b308",
   "metadata": {},
   "outputs": [
    {
     "name": "stdout",
     "output_type": "stream",
     "text": [
      "Số đo cạnh tam giác: 100\n",
      "Mã màu của tam giác: blue\n"
     ]
    }
   ],
   "source": [
    "import turtle\n",
    "pen = turtle.Turtle()\n",
    "chieu_dai = int(input(\"Số đo cạnh tam giác: \"))\n",
    "ma_mau = input(\"Mã màu của tam giác: \")\n",
    "#ma_mau =\"blue\"\n",
    "pen.fillcolor(ma_mau)\n",
    "pen.begin_fill()\n",
    "pen.circle(chieu_dai, steps=3)\n",
    "#for i in range(3) :\n",
    "#   pen.backward(chieu_dai)\n",
    "#   pen.left(120)\n",
    "pen.end_fill()\n",
    "turtle.done()  "
   ]
  },
  {
   "cell_type": "markdown",
   "id": "fa7cb208",
   "metadata": {},
   "source": [
    "## Cú pháp import"
   ]
  },
  {
   "cell_type": "markdown",
   "id": "ab2a2ea5",
   "metadata": {},
   "source": [
    "Để sử dụng một module từ bên ngoài, chúng ta sẽ sử dụng từ khóa import. Sau đây là ví dụ về một số cách import phổ biến."
   ]
  },
  {
   "cell_type": "markdown",
   "id": "bd6de377",
   "metadata": {},
   "source": [
    "### Random một giá trị ngẫu nhiên"
   ]
  },
  {
   "cell_type": "code",
   "execution_count": 59,
   "id": "ce5547f5",
   "metadata": {},
   "outputs": [
    {
     "name": "stdout",
     "output_type": "stream",
     "text": [
      "3.141592653589793\n"
     ]
    }
   ],
   "source": [
    "import math\n",
    "print(math.pi)"
   ]
  },
  {
   "cell_type": "markdown",
   "id": "dfa93dc0",
   "metadata": {},
   "source": [
    "### Thực hiện các phép toán số học"
   ]
  },
  {
   "cell_type": "code",
   "execution_count": 8,
   "id": "4f06f722",
   "metadata": {},
   "outputs": [],
   "source": [
    "# import toàn bộ module\n"
   ]
  },
  {
   "cell_type": "code",
   "execution_count": null,
   "id": "6b9e471b",
   "metadata": {},
   "outputs": [],
   "source": [
    "# import một phần trong module"
   ]
  },
  {
   "cell_type": "markdown",
   "id": "391969e7",
   "metadata": {},
   "source": [
    "## Xử lý String trong python"
   ]
  },
  {
   "cell_type": "markdown",
   "id": "ab461669",
   "metadata": {},
   "source": [
    "### String là gì?\n",
    "String là một chuỗi gồm các ký tự Unicode"
   ]
  },
  {
   "cell_type": "markdown",
   "id": "94a27b90",
   "metadata": {},
   "source": [
    "### Khởi tạo một string"
   ]
  },
  {
   "cell_type": "code",
   "execution_count": null,
   "id": "b14f4fcc",
   "metadata": {},
   "outputs": [],
   "source": [
    "# one-line string\n",
    "course_name = \"Python Fundemental\""
   ]
  },
  {
   "cell_type": "code",
   "execution_count": 60,
   "id": "9cc506a7",
   "metadata": {},
   "outputs": [
    {
     "name": "stdout",
     "output_type": "stream",
     "text": [
      "String nhiều dòng\n",
      "123\n",
      "abc \n"
     ]
    }
   ],
   "source": [
    "# multi-line string\n",
    "lesson_detail = \"\"\"String nhiều dòng\n",
    "123\n",
    "abc \"\"\"\n",
    "print(lesson_detail)"
   ]
  },
  {
   "cell_type": "markdown",
   "id": "8f4270fd",
   "metadata": {},
   "source": [
    "### Các thao tác phổ biến với string"
   ]
  },
  {
   "cell_type": "code",
   "execution_count": 61,
   "id": "c825f890",
   "metadata": {},
   "outputs": [
    {
     "name": "stdout",
     "output_type": "stream",
     "text": [
      "18\n"
     ]
    }
   ],
   "source": [
    "# Kiểm tra độ dài string\n",
    "course_name = \"Python Fundemental\"\n",
    "print(len(course_name))"
   ]
  },
  {
   "cell_type": "code",
   "execution_count": 4,
   "id": "6de96621",
   "metadata": {},
   "outputs": [
    {
     "name": "stdout",
     "output_type": "stream",
     "text": [
      "h\n",
      "d\n",
      "d\n"
     ]
    }
   ],
   "source": [
    "# Truy xuất ký tự bằng cơ chế indexing và reverse indexing\n",
    "content =\"hello world\"\n",
    "print(content[0])\n",
    "print(content[-1])\n",
    "print(content[len(content)-1])"
   ]
  },
  {
   "cell_type": "markdown",
   "id": "a4f949d9",
   "metadata": {},
   "source": [
    "#### Thực hành: Viết chương trình nhập vào một chuỗi bất kỳ, sau đó in ra ký tự đầu tiên và ký tự cuối cùng của chuỗi đó."
   ]
  },
  {
   "cell_type": "code",
   "execution_count": 2,
   "id": "14833f18",
   "metadata": {},
   "outputs": [
    {
     "name": "stdout",
     "output_type": "stream",
     "text": [
      "chào\n"
     ]
    }
   ],
   "source": [
    "# name=input(\"Tên của bạn:\")\n",
    "# print(\"Tên đầy đủ: \",name[1:0])\n",
    "# print(\"Họ: \", name[4])\n",
    "# a = \"xin chào mọi người\"\n",
    "# b = a[0:3]\n",
    "# print(b)\n",
    "c = a[4:8]\n",
    "print(c)\n",
    "print a[:8]\n",
    "print a[9:]\n"
   ]
  },
  {
   "cell_type": "code",
   "execution_count": 3,
   "id": "9aad2f16",
   "metadata": {},
   "outputs": [
    {
     "name": "stdout",
     "output_type": "stream",
     "text": [
      "oàhc\n"
     ]
    }
   ],
   "source": [
    "# Cắt string theo index\n",
    "#lấy chuỗi ngược\n",
    "a = \"xin chào mọi người\"\n",
    "b = a[7:3:-1]\n",
    "print(b)"
   ]
  },
  {
   "cell_type": "code",
   "execution_count": null,
   "id": "6ec63f90",
   "metadata": {},
   "outputs": [],
   "source": [
    "# Ghép chuỗi và lặp chuỗi\n",
    "# Phép cộng chuỗi và nhân chuỗi\n",
    "a = \"xin \"\n",
    "b = \"chào\"\n",
    "c = a + b\n",
    "print(c)\n",
    "d = 1\n",
    "# print (a + d) "
   ]
  },
  {
   "cell_type": "code",
   "execution_count": 8,
   "id": "4c3f5d0f",
   "metadata": {},
   "outputs": [
    {
     "name": "stdout",
     "output_type": "stream",
     "text": [
      "3\n",
      "12\n"
     ]
    }
   ],
   "source": [
    "a = 1 \n",
    "b = 2\n",
    "c = \"1\"\n",
    "d = \"2\"\n",
    "ab = a + b\n",
    "cd = c + d\n",
    "print(ab)\n",
    "print(cd)"
   ]
  },
  {
   "cell_type": "markdown",
   "id": "84c2dcb9",
   "metadata": {},
   "source": [
    "#### Thực hành: Xử lý và in ra các thông tin tương ứng trong chuỗi"
   ]
  },
  {
   "cell_type": "code",
   "execution_count": 10,
   "id": "cd71f135",
   "metadata": {},
   "outputs": [
    {
     "name": "stdout",
     "output_type": "stream",
     "text": [
      "Nhập tênQuân\n",
      "xin chào Quân\n"
     ]
    }
   ],
   "source": [
    "# In ra dòng chữ \"xin chào...\" (yêu cầu cộng chuỗi )\n",
    "name = input(\"Nhập tên\")\n",
    "print(\"xin chào\", name)"
   ]
  },
  {
   "cell_type": "markdown",
   "id": "7cbd965f",
   "metadata": {},
   "source": [
    "### Các hàm thông dụng khi xử lý string"
   ]
  },
  {
   "cell_type": "code",
   "execution_count": 9,
   "id": "eb5932a1",
   "metadata": {},
   "outputs": [
    {
     "name": "stdout",
     "output_type": "stream",
     "text": [
      "8\n"
     ]
    }
   ],
   "source": [
    "# len\n",
    "a = len(\"xin chào\")\n",
    "print(a)"
   ]
  },
  {
   "cell_type": "code",
   "execution_count": 6,
   "id": "6bef6d33",
   "metadata": {},
   "outputs": [
    {
     "name": "stdout",
     "output_type": "stream",
     "text": [
      "1\n"
     ]
    }
   ],
   "source": [
    "# count\n",
    "a = \"GHJ\"\n",
    "b = a.count(a)\n",
    "print(b)"
   ]
  },
  {
   "cell_type": "code",
   "execution_count": 8,
   "id": "997fc06d",
   "metadata": {},
   "outputs": [
    {
     "name": "stdout",
     "output_type": "stream",
     "text": [
      "0\n",
      "-1\n"
     ]
    }
   ],
   "source": [
    "# find\n",
    "a = \"xin chào các bạn, xin chào mọi người\"\n",
    "b = \"xin chào\"\n",
    "c = a.find(b)\n",
    "d = b.find(a)\n",
    "print(c)\n",
    "print(d)"
   ]
  },
  {
   "cell_type": "code",
   "execution_count": null,
   "id": "1582bbd8",
   "metadata": {},
   "outputs": [],
   "source": [
    "# upper, lower"
   ]
  },
  {
   "cell_type": "code",
   "execution_count": null,
   "id": "0d08f708",
   "metadata": {},
   "outputs": [],
   "source": [
    "# lstrip, rstrip, strip"
   ]
  },
  {
   "cell_type": "code",
   "execution_count": null,
   "id": "62180d52",
   "metadata": {},
   "outputs": [],
   "source": [
    "# split"
   ]
  },
  {
   "cell_type": "markdown",
   "id": "032ba1fc",
   "metadata": {},
   "source": []
  }
 ],
 "metadata": {
  "kernelspec": {
   "display_name": "Python 3 (ipykernel)",
   "language": "python",
   "name": "python3"
  },
  "language_info": {
   "codemirror_mode": {
    "name": "ipython",
    "version": 3
   },
   "file_extension": ".py",
   "mimetype": "text/x-python",
   "name": "python",
   "nbconvert_exporter": "python",
   "pygments_lexer": "ipython3",
   "version": "3.10.2"
  }
 },
 "nbformat": 4,
 "nbformat_minor": 5
}
