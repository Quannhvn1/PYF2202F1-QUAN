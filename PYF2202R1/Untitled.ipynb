{
 "cells": [
  {
   "cell_type": "code",
   "execution_count": null,
   "id": "78226666",
   "metadata": {},
   "outputs": [],
   "source": [
    "class A():\n",
    "    \n",
    "def __init__(self):\n",
    "    \n",
    "def calculate(self):\n",
    "    outstanding = amount + interest - principle_paid - interest_paid \n",
    "    due_date = borrow_date + duration\n",
    "    interest_to_pay = amount * interest rate\n",
    "    principle_to_repay = amount / duration\n",
    "    "
   ]
  }
 ],
 "metadata": {
  "kernelspec": {
   "display_name": "Python 3 (ipykernel)",
   "language": "python",
   "name": "python3"
  },
  "language_info": {
   "codemirror_mode": {
    "name": "ipython",
    "version": 3
   },
   "file_extension": ".py",
   "mimetype": "text/x-python",
   "name": "python",
   "nbconvert_exporter": "python",
   "pygments_lexer": "ipython3",
   "version": "3.10.2"
  }
 },
 "nbformat": 4,
 "nbformat_minor": 5
}
