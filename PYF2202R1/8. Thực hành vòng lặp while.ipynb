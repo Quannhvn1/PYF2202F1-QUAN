{
 "cells": [
  {
   "cell_type": "code",
   "execution_count": null,
   "id": "272a3a95",
   "metadata": {},
   "outputs": [],
   "source": [
    "'''\n",
    "Khởi động 1: Viết chương trình in ra tất cả các số chia hết cho cả 5 và 7 trong khoảng từ 1500 đến 2700\n",
    "'''\n",
    "i = 1500\n",
    "while i < 2700:\n",
    "    if (i % 5 == 0 and i % 7 == 0):\n",
    "        print(i)\n",
    "    i += 1"
   ]
  },
  {
   "cell_type": "code",
   "execution_count": null,
   "id": "87f74c6c",
   "metadata": {},
   "outputs": [],
   "source": [
    "'''\n",
    "Bài 1: Viết chương trình nhập vào chiều cao tam giác vuông và in ra tam giác có hình dạng như sau:\n",
    "*****\n",
    "****\n",
    "***\n",
    "** \n",
    "*\n",
    "'''\n",
    "l = int(input(\"Chiều cao tam giác vuông: \"))\n",
    "i = l\n",
    "while i >= 1:\n",
    "    print (\"*\" * i)\n",
    "    i -= 1"
   ]
  },
  {
   "cell_type": "code",
   "execution_count": null,
   "id": "c63a7d53",
   "metadata": {},
   "outputs": [],
   "source": [
    "'''\n",
    "Bài 2: Viết chương trình nhập vào chiều cao tam giác vuông và in ra tam giác có hình dạng như sau:\n",
    "* * * * * *\n",
    "* * * * *\n",
    "* * * *\n",
    "* * *\n",
    "* *\n",
    "*\n",
    "'''\n",
    "<!-- height = int(input(\"Nhập chiều cao:\"))\n",
    "\n",
    "i = height\n",
    "a= \"* \"\n",
    "while i >=1:\n",
    "    print(a*(i-1),end=a[:-1])\n",
    "    print()\n",
    "    i-=1 -->\n",
    "\n"
   ]
  },
  {
   "cell_type": "code",
   "execution_count": null,
   "id": "61b8a0ce",
   "metadata": {},
   "outputs": [],
   "source": [
    "l = int(input(\"Chiều cao tam giác vuông: \"))\n",
    "i = l\n",
    "while i >= 1:\n",
    "    print (\"* \" * (i-1) + \"*\")\n",
    "    i -= 1"
   ]
  },
  {
   "cell_type": "code",
   "execution_count": 2,
   "id": "bd17e085",
   "metadata": {
    "scrolled": false
   },
   "outputs": [
    {
     "name": "stdout",
     "output_type": "stream",
     "text": [
      "Chiều cao tam giác vuông: 5\n",
      "* _ * _ *\n",
      "* _ * _\n",
      "* _ *\n",
      "* _\n",
      "*\n"
     ]
    }
   ],
   "source": [
    "'''\n",
    "Bài 3: Viết chương trình nhập vào chiều cao tam giác vuông và in ra tam giác có hình dạng như sau:\n",
    "* - * - *\n",
    "* - * -\n",
    "* - *\n",
    "* -\n",
    "*\n",
    "'''\n",
    "l = int(input(\"Chiều cao tam giác vuông: \"))\n",
    "i = l\n",
    "string = \"* _ \"\n",
    "while i >= 1:\n",
    "    print(\"{}\".format((string*(i//2) + string[0:i%2]).strip())) \n",
    "    i -= 1"
   ]
  },
  {
   "cell_type": "code",
   "execution_count": null,
   "id": "794cdf5c",
   "metadata": {},
   "outputs": [],
   "source": [
    "h = int(input(\"Nhập h: \"))\n",
    "i = h\n",
    "while i >= 1:\n",
    "    a = 1\n",
    "    while a < i:\n",
    "        if a%2 != 0:\n",
    "            print(\"*\",end=\" \")\n",
    "            a += 1\n",
    "        else:\n",
    "            print(\"-\",end=\" \")\n",
    "            a += 1\n",
    "    else:\n",
    "        if a%2 != 0:\n",
    "            print(\"*\")\n",
    "        else:\n",
    "            print(\"-\")\n",
    "    i -= 1\n"
   ]
  },
  {
   "cell_type": "code",
   "execution_count": 28,
   "id": "d90e9ffb",
   "metadata": {},
   "outputs": [
    {
     "name": "stdout",
     "output_type": "stream",
     "text": [
      "Nhập chiều cao tam giác: 9\n",
      "* - * - * - * - *\n",
      "* - * - * - * -\n",
      "* - * - * - *\n",
      "* - * - * -\n",
      "* - * - *\n",
      "* - * -\n",
      "* - *\n",
      "* -\n",
      "*\n"
     ]
    }
   ],
   "source": [
    "height = int(input(\"Nhập chiều cao tam giác: \"))\n",
    "i = height\n",
    "\n",
    "while i >= 1:\n",
    "    \n",
    "    j = 0\n",
    "    while j < i:\n",
    "        if j % 2 == 0:\n",
    "            print('*', end='')\n",
    "        else:\n",
    "            print('-', end='')\n",
    "        \n",
    "        if j < i - 1:\n",
    "            print(' ', end='')\n",
    "        j += 1\n",
    "    print()\n",
    "    \n",
    "    i -= 1\n"
   ]
  },
  {
   "cell_type": "code",
   "execution_count": null,
   "id": "105b66bc",
   "metadata": {},
   "outputs": [],
   "source": [
    "'''\n",
    "Bài 4: Viết chương trình nhập vào một số nguyên n và in ra các số từ 1 đến n với các trường hợp ngoại lệ như sau:\n",
    "- Nếu số đó chia hết cho 3 thì in \"py\"\n",
    "- Nếu số đó chia hết cho 7 thì in \"thon\"\n",
    "- Nếu số đó chia hết cho cả 3 và 7 thì in \"python\"\n",
    "\n",
    "Ví dụ: n = 25\n",
    "1\n",
    "2\n",
    "py\n",
    "4\n",
    "5\n",
    "py\n",
    "thon\n",
    "8b\n",
    "py\n",
    "10\n",
    "11\n",
    "py\n",
    "13\n",
    "thon\n",
    "py\n",
    "16\n",
    "17\n",
    "py\n",
    "19\n",
    "20\n",
    "python\n",
    "22\n",
    "23\n",
    "py\n",
    "25\n",
    "'''"
   ]
  },
  {
   "cell_type": "code",
   "execution_count": null,
   "id": "43fb3326",
   "metadata": {},
   "outputs": [],
   "source": [
    "# Bài 4\n",
    "n = int(input(\"Nhập n: \"))\n",
    "i = 1\n",
    "\n",
    "while i <= n:\n",
    "    if i % 21 == 0:\n",
    "        print(\"python\")\n",
    "    elif i % 7 == 0:\n",
    "        print(\"thon\")\n",
    "    elif i % 3 == 0:\n",
    "        print(\"py\")\n",
    "    else:\n",
    "        print(i)\n",
    "    i += 1\n",
    "\n",
    "    \n",
    "    "
   ]
  },
  {
   "cell_type": "code",
   "execution_count": null,
   "id": "3689744c",
   "metadata": {},
   "outputs": [],
   "source": [
    "'''\n",
    "Bài 5: Viết chương trình nhập vào một số và kiểm tra xem số đó có phải là số nguyên tố hay không\n",
    "Note: Số nguyên tố là số chỉ chia hết cho 1 và chính nó\n",
    "'''\n",
    "n = int(input(\"Nhập số nguyên n: \"))\n",
    "i = 1\n",
    "count = 0 \n",
    "while i <= n:\n",
    "    quotient = n % i\n",
    "    if quotient == 0:\n",
    "        count += 1\n",
    "    i += 1\n",
    "if count == 2:\n",
    "    print(\"Số nguyên tố\")\n",
    "else:\n",
    "    print(\"Hợp số\")\n",
    "    \n",
    "        "
   ]
  },
  {
   "cell_type": "code",
   "execution_count": null,
   "id": "d9c93ea6",
   "metadata": {},
   "outputs": [],
   "source": [
    "print(\"Nhập vào số N lớn hơn 1: \")\n",
    " \n",
    "# Lấy dữ liệu\n",
    "n = int(input())\n",
    "flag = True\n",
    " \n",
    "# Kiểm tra SNT\n",
    "if (n < 2):\n",
    "    flag = False\n",
    "elif (n == 2):\n",
    "    flag = True\n",
    "elif (n % 2 == 0):\n",
    "    flag = False\n",
    "else:\n",
    "    # Lặp qua các số lẻ nên bắt đầu từ 3 với bước nhảy là 2\n",
    "    for i in range(3, n, 2):\n",
    "        if (n % i == 0):\n",
    "            flag = False\n",
    " \n",
    " \n",
    "# In kết quả\n",
    "if flag == True:\n",
    "    print(n, \" là số nguyên tố\")\n",
    "else:\n",
    "    print(n, \" không phải là số nguyên tố\")\n"
   ]
  },
  {
   "cell_type": "code",
   "execution_count": null,
   "id": "9c5ac99d",
   "metadata": {},
   "outputs": [],
   "source": [
    "n = int(input(\"Nhập n: \"))\n",
    "\n",
    "i = 2\n",
    "flag = True\n",
    "\n",
    "while i < n:\n",
    "    print(f\"i = {i}\")\n",
    "    \n",
    "    if n % i == 0:\n",
    "        flag = False\n",
    "        print(f\"{n} không phải là số nguyên tố\")\n",
    "        break\n",
    "    \n",
    "    i += 1\n",
    "\n",
    "if flag:\n",
    "    print(f\"{n} là số nguyên tố\")\n",
    "# Yêu cầu giảm số vòng lặp ví dụ 113 chia cho 56"
   ]
  },
  {
   "cell_type": "code",
   "execution_count": 4,
   "id": "19b764ee",
   "metadata": {},
   "outputs": [
    {
     "name": "stdout",
     "output_type": "stream",
     "text": [
      "Nhập số 1 - búa, 2 - kéo, 3 - bao: 1\n",
      "Nhập số 1 - búa, 2 - kéo, 3 - bao: 2\n",
      "Nhập số 1 - búa, 2 - kéo, 3 - bao: 3\n",
      "Thắng\n"
     ]
    }
   ],
   "source": [
    "'''\n",
    "Bài 6: Viết chương trình mô phỏng trò chơi kéo búa bao theo luật chơi như sau:\n",
    "Quy ước: 1 - búa, 2 - kéo, 3 - bao\n",
    "Khi trò chơi bắt đầu, yêu cầu người chơi nhập 1 số từ bàn phím đại diện cho kéo, búa, bao\n",
    "Chương trình tự random ra một lựa chọn từ 1 đến 3.\n",
    "Nếu người chơi thua thì tiếp tục chơi cho đến khi thắng thì kết thúc chương trình.\n",
    "Ví dụ:\n",
    "\n",
    "Mời lựa chọn(1 - búa, 2 - kéo, 3 - bao): 1\n",
    "Máy tính chọn: 3\n",
    "Người chơi thua.\n",
    "\n",
    "Mời lựa chọn(1 - búa, 2 - kéo, 3 - bao): 2\n",
    "Máy tính chọn: 1\n",
    "Người chơi thua.\n",
    "\n",
    "Mời lựa chọn(1 - búa, 2 - kéo, 3 - bao): 1\n",
    "Máy tính chọn: 2\n",
    "Người chơi thắng.\n",
    "'''\n",
    "import random\n",
    "flag = True\n",
    "while flag:\n",
    "    i = int(input(\"Nhập số 1 - búa, 2 - kéo, 3 - bao: \"))\n",
    "    j = random.randint(1,3)\n",
    "    if (i == 1 and j == 2) or (i == 2 and j == 3) or (i == 3 and j == 1) :\n",
    "        print(\"Thắng\")\n",
    "        flag = False\n",
    "        \n",
    "# if i == j: \n",
    "#     print(\"Hoà\")\n",
    "# (i == 1 and j == 2)\n",
    "#     print(\"Thắng\")\n",
    "# # elif i == 1 and j == 3:\n",
    "# #     print(\"Thua\")\n",
    "# elif i == 2 and j == 3: \n",
    "# #     print(\"Thắng\")\n",
    "# # elif i == 2 and j == 1:\n",
    "# #     print(\"Thua\")\n",
    "# elif i == 3 and j == 2: \n",
    "#     print(\"Thắng\")\n",
    "# elif i == 3 and j == 1:\n",
    "#     print(\"Thua\")\n",
    "\n"
   ]
  },
  {
   "cell_type": "code",
   "execution_count": 6,
   "id": "a6cfa3c4",
   "metadata": {},
   "outputs": [
    {
     "name": "stdout",
     "output_type": "stream",
     "text": [
      "Mời lựa chọn(1 - búa, 2 - kéo, 3 - bao): 2\n",
      "Người chơi chọn 2 may tinh chọn 2\n",
      "Người chơi thua\n"
     ]
    },
    {
     "ename": "KeyboardInterrupt",
     "evalue": "Interrupted by user",
     "output_type": "error",
     "traceback": [
      "\u001b[1;31m---------------------------------------------------------------------------\u001b[0m",
      "\u001b[1;31mKeyboardInterrupt\u001b[0m                         Traceback (most recent call last)",
      "Input \u001b[1;32mIn [6]\u001b[0m, in \u001b[0;36m<module>\u001b[1;34m\u001b[0m\n\u001b[0;32m      3\u001b[0m i \u001b[38;5;241m=\u001b[39m \u001b[38;5;241m0\u001b[39m\n\u001b[0;32m      4\u001b[0m \u001b[38;5;28;01mwhile\u001b[39;00m i \u001b[38;5;241m<\u001b[39m\u001b[38;5;241m=\u001b[39m machine:\n\u001b[1;32m----> 5\u001b[0m     human \u001b[38;5;241m=\u001b[39m \u001b[38;5;28mint\u001b[39m(\u001b[38;5;28;43minput\u001b[39;49m\u001b[43m(\u001b[49m\u001b[38;5;124;43m\"\u001b[39;49m\u001b[38;5;124;43mMời lựa chọn(1 - búa, 2 - kéo, 3 - bao): \u001b[39;49m\u001b[38;5;124;43m\"\u001b[39;49m\u001b[43m)\u001b[49m)\n\u001b[0;32m      6\u001b[0m     \u001b[38;5;28;01mif\u001b[39;00m human \u001b[38;5;241m==\u001b[39m \u001b[38;5;241m1\u001b[39m \u001b[38;5;129;01mand\u001b[39;00m (machine \u001b[38;5;241m==\u001b[39m \u001b[38;5;241m3\u001b[39m \u001b[38;5;129;01mor\u001b[39;00m machine \u001b[38;5;241m==\u001b[39m \u001b[38;5;241m1\u001b[39m):\n\u001b[0;32m      7\u001b[0m         \u001b[38;5;28mprint\u001b[39m(\u001b[38;5;124m\"\u001b[39m\u001b[38;5;124mNgười chơi chọn\u001b[39m\u001b[38;5;124m\"\u001b[39m,human,\u001b[38;5;124m\"\u001b[39m\u001b[38;5;124mmay tinh chọn\u001b[39m\u001b[38;5;124m\"\u001b[39m,machine)\n",
      "File \u001b[1;32m~\\AppData\\Local\\Programs\\Python\\Python310\\lib\\site-packages\\ipykernel\\kernelbase.py:1075\u001b[0m, in \u001b[0;36mKernel.raw_input\u001b[1;34m(self, prompt)\u001b[0m\n\u001b[0;32m   1071\u001b[0m \u001b[38;5;28;01mif\u001b[39;00m \u001b[38;5;129;01mnot\u001b[39;00m \u001b[38;5;28mself\u001b[39m\u001b[38;5;241m.\u001b[39m_allow_stdin:\n\u001b[0;32m   1072\u001b[0m     \u001b[38;5;28;01mraise\u001b[39;00m StdinNotImplementedError(\n\u001b[0;32m   1073\u001b[0m         \u001b[38;5;124m\"\u001b[39m\u001b[38;5;124mraw_input was called, but this frontend does not support input requests.\u001b[39m\u001b[38;5;124m\"\u001b[39m\n\u001b[0;32m   1074\u001b[0m     )\n\u001b[1;32m-> 1075\u001b[0m \u001b[38;5;28;01mreturn\u001b[39;00m \u001b[38;5;28;43mself\u001b[39;49m\u001b[38;5;241;43m.\u001b[39;49m\u001b[43m_input_request\u001b[49m\u001b[43m(\u001b[49m\n\u001b[0;32m   1076\u001b[0m \u001b[43m    \u001b[49m\u001b[38;5;28;43mstr\u001b[39;49m\u001b[43m(\u001b[49m\u001b[43mprompt\u001b[49m\u001b[43m)\u001b[49m\u001b[43m,\u001b[49m\n\u001b[0;32m   1077\u001b[0m \u001b[43m    \u001b[49m\u001b[38;5;28;43mself\u001b[39;49m\u001b[38;5;241;43m.\u001b[39;49m\u001b[43m_parent_ident\u001b[49m\u001b[43m[\u001b[49m\u001b[38;5;124;43m\"\u001b[39;49m\u001b[38;5;124;43mshell\u001b[39;49m\u001b[38;5;124;43m\"\u001b[39;49m\u001b[43m]\u001b[49m\u001b[43m,\u001b[49m\n\u001b[0;32m   1078\u001b[0m \u001b[43m    \u001b[49m\u001b[38;5;28;43mself\u001b[39;49m\u001b[38;5;241;43m.\u001b[39;49m\u001b[43mget_parent\u001b[49m\u001b[43m(\u001b[49m\u001b[38;5;124;43m\"\u001b[39;49m\u001b[38;5;124;43mshell\u001b[39;49m\u001b[38;5;124;43m\"\u001b[39;49m\u001b[43m)\u001b[49m\u001b[43m,\u001b[49m\n\u001b[0;32m   1079\u001b[0m \u001b[43m    \u001b[49m\u001b[43mpassword\u001b[49m\u001b[38;5;241;43m=\u001b[39;49m\u001b[38;5;28;43;01mFalse\u001b[39;49;00m\u001b[43m,\u001b[49m\n\u001b[0;32m   1080\u001b[0m \u001b[43m\u001b[49m\u001b[43m)\u001b[49m\n",
      "File \u001b[1;32m~\\AppData\\Local\\Programs\\Python\\Python310\\lib\\site-packages\\ipykernel\\kernelbase.py:1120\u001b[0m, in \u001b[0;36mKernel._input_request\u001b[1;34m(self, prompt, ident, parent, password)\u001b[0m\n\u001b[0;32m   1117\u001b[0m             \u001b[38;5;28;01mbreak\u001b[39;00m\n\u001b[0;32m   1118\u001b[0m \u001b[38;5;28;01mexcept\u001b[39;00m \u001b[38;5;167;01mKeyboardInterrupt\u001b[39;00m:\n\u001b[0;32m   1119\u001b[0m     \u001b[38;5;66;03m# re-raise KeyboardInterrupt, to truncate traceback\u001b[39;00m\n\u001b[1;32m-> 1120\u001b[0m     \u001b[38;5;28;01mraise\u001b[39;00m \u001b[38;5;167;01mKeyboardInterrupt\u001b[39;00m(\u001b[38;5;124m\"\u001b[39m\u001b[38;5;124mInterrupted by user\u001b[39m\u001b[38;5;124m\"\u001b[39m) \u001b[38;5;28;01mfrom\u001b[39;00m \u001b[38;5;28mNone\u001b[39m\n\u001b[0;32m   1121\u001b[0m \u001b[38;5;28;01mexcept\u001b[39;00m \u001b[38;5;167;01mException\u001b[39;00m:\n\u001b[0;32m   1122\u001b[0m     \u001b[38;5;28mself\u001b[39m\u001b[38;5;241m.\u001b[39mlog\u001b[38;5;241m.\u001b[39mwarning(\u001b[38;5;124m\"\u001b[39m\u001b[38;5;124mInvalid Message:\u001b[39m\u001b[38;5;124m\"\u001b[39m, exc_info\u001b[38;5;241m=\u001b[39m\u001b[38;5;28;01mTrue\u001b[39;00m)\n",
      "\u001b[1;31mKeyboardInterrupt\u001b[0m: Interrupted by user"
     ]
    }
   ],
   "source": [
    "from random import randint\n",
    "machine = random.randrange(1, 3)\n",
    "i = 0\n",
    "while i <= machine:\n",
    "    human = int(input(\"Mời lựa chọn(1 - búa, 2 - kéo, 3 - bao): \"))\n",
    "    if human == 1 and (machine == 3 or machine == 1):\n",
    "        print(\"Người chơi chọn\",human,\"may tinh chọn\",machine)\n",
    "        print(\"Người chơi thua\")\n",
    "        i += 1\n",
    "    elif human == 2 and (machine == 1 or machine == 2):\n",
    "        print(\"Người chơi chọn\",human,\"may tinh chọn\",machine)\n",
    "        print(\"Người chơi thua\")\n",
    "        i += 1\n",
    "    elif human == 3 and (machine == 2 or machine == 3):\n",
    "        print(\"Người chơi chọn\",human,\"may tinh chọn\",machine)\n",
    "        print(\"Người chơi thua\")\n",
    "        i += 1\n",
    "    else:\n",
    "        print(\"Người chơi chọn\",human,\"may tinh chọn\",machine)\n",
    "        print(\"Người chơi thắng\")\n",
    "        break\n"
   ]
  },
  {
   "cell_type": "code",
   "execution_count": null,
   "id": "64b240cf",
   "metadata": {},
   "outputs": [],
   "source": [
    "from random import randint\n",
    "\n",
    "win = False\n",
    "\n",
    "while win == False:\n",
    "    player_choice = int(input(\"Mời lựa chọn(1 - búa, 2 - kéo, 3 - bao): \"))\n",
    "    computer_choice = randint(1, 3)\n",
    "    print(f\"Máy tính chọn: {computer_choice}\")\n",
    "\n",
    "    if computer_choice > 1 and computer_choice - player_choice == 1:\n",
    "        print(\"Người chơi thắng.\")\n",
    "        break\n",
    "    elif computer_choice == 1 and player_choice == 3:\n",
    "        print(\"Người chơi thắng.\")\n",
    "        break\n",
    "    elif computer_choice == player_choice:\n",
    "        print(\"Hòa.\")\n",
    "    else: print(\"Người chơi thua.\")\n"
   ]
  }
 ],
 "metadata": {
  "kernelspec": {
   "display_name": "Python 3 (ipykernel)",
   "language": "python",
   "name": "python3"
  },
  "language_info": {
   "codemirror_mode": {
    "name": "ipython",
    "version": 3
   },
   "file_extension": ".py",
   "mimetype": "text/x-python",
   "name": "python",
   "nbconvert_exporter": "python",
   "pygments_lexer": "ipython3",
   "version": "3.10.2"
  }
 },
 "nbformat": 4,
 "nbformat_minor": 5
}
