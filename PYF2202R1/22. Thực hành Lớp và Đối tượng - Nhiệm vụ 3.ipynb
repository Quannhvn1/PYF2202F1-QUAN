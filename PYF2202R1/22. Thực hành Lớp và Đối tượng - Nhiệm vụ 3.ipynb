{
 "cells": [
  {
   "cell_type": "code",
   "execution_count": null,
   "id": "a42fa0c7",
   "metadata": {},
   "outputs": [],
   "source": [
    "\"\"\"\n",
    "Tạo class có tên SoHoc gồm có các thuộc tính và phương thức sau:\n",
    "+ Thuộc tính: number1, number2\n",
    "+ Phương thức:\n",
    "- Phương thức tạo __init()__\n",
    "- input_info(): dùng để nhập 2 số number1, number2\n",
    "- print_info(): dùng để hiển thị number1, number2\n",
    "- addition(): dùng để cộng number1, number2\n",
    "- subtract(): trừ number1, number2\n",
    "- multi(): dùng để nhân number1, number2\n",
    "- division(): dùng để chia number1, number2.\n",
    "\n",
    "Sau khi tạo class, khởi tạo một object SoHoc và in ra kết quả tính toán từ các hàm thực hiện phép tính\n",
    "\"\"\""
   ]
  },
  {
   "cell_type": "code",
   "execution_count": 19,
   "id": "64f94821",
   "metadata": {},
   "outputs": [],
   "source": [
    "class SoHoc:\n",
    "    def __init__(self):\n",
    "        self.number1 = 1\n",
    "        self.number2 = 1\n",
    "    \n",
    "    def input_info(self):\n",
    "        self.number1 = float(input(\"Nhập số 1: \"))\n",
    "        self.number2 = float(input(\"Nhập số 2: \"))\n",
    "        \n",
    "    def print_info(self):\n",
    "        print(f\" Số 1 là: {self.number1}\")\n",
    "        print(f\" Số 2 là: {self.number2}\")\n",
    "    \n",
    "    def addition(self):\n",
    "        return self.number1 + self.number2\n",
    "    \n",
    "    def subtract(self):\n",
    "        return self.number1 - self.number2\n",
    "    \n",
    "    def multi(self):\n",
    "        return self.number1 * self.number2\n",
    "              \n",
    "    def division(self):\n",
    "        return self.number1 / self.number2"
   ]
  },
  {
   "cell_type": "code",
   "execution_count": 21,
   "id": "cba92d75",
   "metadata": {},
   "outputs": [
    {
     "name": "stdout",
     "output_type": "stream",
     "text": [
      "Nhập số 1: 1\n",
      "Nhập số 2: 2\n",
      " Kết quả phép cộng: 3.0\n",
      " Kết quả phép trừ: -1.0\n",
      " Kết quả phép nhân: 2.0\n",
      " Kết quả phép chia: 0.5\n"
     ]
    }
   ],
   "source": [
    "sohoc = SoHoc()\n",
    "sohoc.input_info()\n",
    "print(f\" Kết quả phép cộng: {sohoc.addition()}\")\n",
    "print(f\" Kết quả phép trừ: {sohoc.subtract()}\")\n",
    "print(f\" Kết quả phép nhân: {sohoc.multi()}\")\n",
    "print(f\" Kết quả phép chia: {sohoc.division()}\")"
   ]
  }
 ],
 "metadata": {
  "kernelspec": {
   "display_name": "Python 3 (ipykernel)",
   "language": "python",
   "name": "python3"
  },
  "language_info": {
   "codemirror_mode": {
    "name": "ipython",
    "version": 3
   },
   "file_extension": ".py",
   "mimetype": "text/x-python",
   "name": "python",
   "nbconvert_exporter": "python",
   "pygments_lexer": "ipython3",
   "version": "3.10.2"
  }
 },
 "nbformat": 4,
 "nbformat_minor": 5
}
